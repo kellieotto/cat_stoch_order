{
 "cells": [
  {
   "cell_type": "code",
   "execution_count": 189,
   "metadata": {},
   "outputs": [],
   "source": [
    "import numpy as np\n",
    "import pandas as pd\n",
    "import itertools\n",
    "import warnings\n",
    "warnings.filterwarnings('ignore')\n",
    "from stoch_order import *\n",
    "from scipy.stats import norm,multivariate_normal"
   ]
  },
  {
   "cell_type": "code",
   "execution_count": 2,
   "metadata": {},
   "outputs": [],
   "source": [
    "%load_ext rpy2.ipython"
   ]
  },
  {
   "cell_type": "markdown",
   "metadata": {},
   "source": [
    "# Categorical ordered data simulation"
   ]
  },
  {
   "cell_type": "code",
   "execution_count": 171,
   "metadata": {},
   "outputs": [],
   "source": [
    "%%R -o ord,ord1,ord2\n",
    "#install.packages(\"GenOrd\")\n",
    "require(GenOrd)\n",
    "\n",
    "marginal <- list(c(0.1,0.3,0.6), c(0.4,0.7,0.9))\n",
    "marginal1 <- list(c(0.6,0.85,0.9), c(0.05,0.2,0.9))\n",
    "marginal2 <- list(c(0.2,0.3,0.6), c(0.05,0.2,0.8))\n",
    "\n",
    "Sigma <- matrix(c(1,0.6,0.6,1),2,2)\n",
    "Sigma1 <- matrix(c(1,0.6,0.6,1),2,2)\n",
    "Sigma2 <- matrix(c(1,0.6,0.6,1),2,2)\n",
    "\n",
    "\n",
    "ord = ordsample(100, marginal, Sigma)\n",
    "ord1 = ordsample(100, marginal1, Sigma1)\n",
    "ord2 = ordsample(100, marginal1, Sigma1)"
   ]
  },
  {
   "cell_type": "code",
   "execution_count": 172,
   "metadata": {},
   "outputs": [],
   "source": [
    "ord = np.array(ord)\n",
    "ord1 = np.array(ord1)\n",
    "ord2 = np.array(ord2)"
   ]
  },
  {
   "cell_type": "markdown",
   "metadata": {},
   "source": [
    "# Univariate Non-normal data simulation (Fleishman's method)"
   ]
  },
  {
   "cell_type": "code",
   "execution_count": 173,
   "metadata": {},
   "outputs": [],
   "source": [
    "%%R -o nndata,nndata1,nndata2\n",
    "#install.packages(\"SimMultiCorrData\")\n",
    "require(SimMultiCorrData)\n",
    "nndata <- nonnormvar1(method = \"Fleishman\", means = 0, vars = 1,\n",
    "  skews = 1, skurts = 1, cstart = NULL, n = 100, seed = 1234)\n",
    "nndata1 <- nonnormvar1(method = \"Fleishman\", means = 10, vars = 1,\n",
    "  skews = 0.6, skurts = 1, cstart = NULL, n = 100, seed = 1234)\n",
    "nndata2 <- nonnormvar1(method = \"Fleishman\", means = 10, vars = 1,\n",
    "  skews = 0.6, skurts = 1, cstart = NULL, n = 100, seed = 1234)"
   ]
  },
  {
   "cell_type": "code",
   "execution_count": 174,
   "metadata": {},
   "outputs": [],
   "source": [
    "nnd = np.array(nndata.__getitem__(1)).reshape((100,1))\n",
    "nnd1 = np.array(nndata1.__getitem__(1)).reshape((100,1))\n",
    "nnd2 = np.array(nndata2.__getitem__(1)).reshape((100,1))"
   ]
  },
  {
   "cell_type": "markdown",
   "metadata": {},
   "source": [
    "# Multivariate Non-normal data simulation (extension of Fleishman's method)"
   ]
  },
  {
   "cell_type": "code",
   "execution_count": 185,
   "metadata": {},
   "outputs": [],
   "source": [
    "%%R -o nnmvdata,nnmvdata1,nnmvdata2\n",
    "\n",
    "require(semTools)\n",
    "Sigma <- matrix(0.60,4,4)\n",
    "Sigma1 <- matrix(0.10,4,4)\n",
    "Sigma2 <- matrix(0.10,4,4)\n",
    "\n",
    "diag(Sigma) <- 1\n",
    "diag(Sigma1) <-1\n",
    "diag(Sigma2) <-1\n",
    "\n",
    "nnmvdata <- mvrnonnorm(100, rep(0,4), Sigma, skewness = 1, kurtosis = 1,empirical = FALSE)\n",
    "nnmvdata1 <- mvrnonnorm(100, rep(0.5,4), Sigma1, skewness = 1, kurtosis = 1,empirical = FALSE)\n",
    "nnmvdata2 <- mvrnonnorm(100, rep(0.5,4), Sigma2, skewness = 1, kurtosis = 1,empirical = FALSE)"
   ]
  },
  {
   "cell_type": "code",
   "execution_count": 186,
   "metadata": {},
   "outputs": [],
   "source": [
    "nnmvd = np.array(nnmvdata)\n",
    "nnmvd1 = np.array(nnmvdata1)\n",
    "nnmvd2 = np.array(nnmvdata2)"
   ]
  },
  {
   "cell_type": "markdown",
   "metadata": {},
   "source": [
    "# Multivariate Normal data simulation\n"
   ]
  },
  {
   "cell_type": "code",
   "execution_count": 177,
   "metadata": {},
   "outputs": [],
   "source": [
    "ndata = multivariate_normal.rvs(mean=[0,0], cov=np.array([1,0.7,0.7,1]).reshape(2,2), size=100, random_state=None)\n",
    "ndata1 = multivariate_normal.rvs(mean=[0.0,0.0], cov=np.array([1,0.7,0.7,1]).reshape(2,2), size=100, random_state=None)\n",
    "ndata2 = multivariate_normal.rvs(mean=[0.5,0.5], cov=np.array([1,0.5,0.5,1]).reshape(2,2), size=100, random_state=None)"
   ]
  },
  {
   "cell_type": "markdown",
   "metadata": {},
   "source": [
    "# Method application"
   ]
  },
  {
   "cell_type": "markdown",
   "metadata": {},
   "source": [
    "### Categorical ordered"
   ]
  },
  {
   "cell_type": "code",
   "execution_count": 178,
   "metadata": {},
   "outputs": [
    {
     "name": "stdout",
     "output_type": "stream",
     "text": [
      "0.06\n",
      "0.04\n",
      "[1.         0.00990099]\n",
      "[0.03960396 0.0990099 ]\n"
     ]
    }
   ],
   "source": [
    "data = np.zeros(300*4).reshape(300,4)\n",
    "data[:,0] = np.arange(1,301)\n",
    "data[:,1] = np.append(np.repeat(1,100),np.append(np.repeat(2,100),np.repeat(3,100),axis=0),axis=0)\n",
    "data[:,2:] = np.vstack((ord,ord1,ord2))\n",
    "data = pd.DataFrame(data)\n",
    "data.columns = [\"id\",\"Treatment\",\"Outcome1\",\"Outcome2\"]\n",
    "\n",
    "\n",
    "pvalues = stochastic_ordering(data,100)\n",
    "print(pvalues.get(\"gpvariables\"))\n",
    "print(pvalues.get(\"gpsplits\"))\n",
    "print(pvalues.get(\"ppvariables\"))\n",
    "print(pvalues.get(\"ppsplits\"))\n"
   ]
  },
  {
   "cell_type": "markdown",
   "metadata": {},
   "source": [
    "### Univariate non-normal"
   ]
  },
  {
   "cell_type": "code",
   "execution_count": 181,
   "metadata": {},
   "outputs": [
    {
     "name": "stdout",
     "output_type": "stream",
     "text": [
      "0.0\n",
      "0.0\n",
      "[0.00990099]\n",
      "[0.00990099 0.00990099]\n"
     ]
    }
   ],
   "source": [
    "data = np.zeros(300*3).reshape(300,3)\n",
    "data[:,0] = np.arange(1,301)\n",
    "data[:,1] = np.append(np.repeat(1,100),np.append(np.repeat(2,100),np.repeat(3,100),axis=0),axis=0)\n",
    "data[:,2:] = np.vstack((nnd,nnd1,nnd2))\n",
    "data = pd.DataFrame(data)\n",
    "data.columns = [\"id\",\"Treatment\",\"Outcome1\"]\n",
    "\n",
    "pvalues = stochastic_ordering(data,100)\n",
    "print(pvalues.get(\"gpvariables\"))\n",
    "print(pvalues.get(\"gpsplits\"))\n",
    "print(pvalues.get(\"ppvariables\"))\n",
    "print(pvalues.get(\"ppsplits\"))\n"
   ]
  },
  {
   "cell_type": "markdown",
   "metadata": {},
   "source": [
    "### Multivariate non-normal"
   ]
  },
  {
   "cell_type": "code",
   "execution_count": 187,
   "metadata": {},
   "outputs": [
    {
     "name": "stdout",
     "output_type": "stream",
     "text": [
      "0.0\n",
      "0.0\n",
      "[0.00990099 0.00990099 0.00990099 0.01980198]\n",
      "[0.00990099 0.00990099]\n"
     ]
    }
   ],
   "source": [
    "data = np.zeros(300*6).reshape(300,6)\n",
    "data[:,0] = np.arange(1,301)\n",
    "data[:,1] = np.append(np.repeat(1,100),np.append(np.repeat(2,100),np.repeat(3,100),axis=0),axis=0)\n",
    "data[:,2:] = np.vstack((nnmvd,nnmvd1,nnmvd2))\n",
    "data = pd.DataFrame(data)\n",
    "data.columns = [\"id\",\"Treatment\",\"Outcome1\",\"Outcome2\",\"Outcome3\",\"Outcome4\"]\n",
    "\n",
    "\n",
    "pvalues = stochastic_ordering(data,100)\n",
    "print(pvalues.get(\"gpvariables\"))\n",
    "print(pvalues.get(\"gpsplits\"))\n",
    "print(pvalues.get(\"ppvariables\"))\n",
    "print(pvalues.get(\"ppsplits\"))"
   ]
  },
  {
   "cell_type": "markdown",
   "metadata": {},
   "source": [
    "### Multivariate normal"
   ]
  },
  {
   "cell_type": "code",
   "execution_count": 191,
   "metadata": {},
   "outputs": [
    {
     "name": "stdout",
     "output_type": "stream",
     "text": [
      "0.0\n",
      "0.0\n",
      "[0.00990099 0.01980198]\n",
      "[0.01980198 0.00990099]\n"
     ]
    }
   ],
   "source": [
    "data = np.zeros(300*4).reshape(300,4)\n",
    "data[:,0] = np.arange(1,301)\n",
    "data[:,1] = np.append(np.repeat(1,100),np.append(np.repeat(2,100),np.repeat(3,100),axis=0),axis=0)\n",
    "data[:,2:] = np.vstack((ndata,ndata1,ndata2))\n",
    "data = pd.DataFrame(data)\n",
    "data.columns = [\"id\",\"Treatment\",\"Outcome1\",\"Outcome2\"]\n",
    "\n",
    "\n",
    "pvalues = stochastic_ordering(data,100)\n",
    "print(pvalues.get(\"gpvariables\"))\n",
    "print(pvalues.get(\"gpsplits\"))\n",
    "print(pvalues.get(\"ppvariables\"))\n",
    "print(pvalues.get(\"ppsplits\"))"
   ]
  },
  {
   "cell_type": "code",
   "execution_count": null,
   "metadata": {},
   "outputs": [],
   "source": []
  }
 ],
 "metadata": {
  "kernelspec": {
   "display_name": "Python 3",
   "language": "python",
   "name": "python3"
  },
  "language_info": {
   "codemirror_mode": {
    "name": "ipython",
    "version": 3
   },
   "file_extension": ".py",
   "mimetype": "text/x-python",
   "name": "python",
   "nbconvert_exporter": "python",
   "pygments_lexer": "ipython3",
   "version": "3.6.4"
  }
 },
 "nbformat": 4,
 "nbformat_minor": 2
}
