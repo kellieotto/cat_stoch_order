{
 "cells": [
  {
   "cell_type": "code",
   "execution_count": 2,
   "metadata": {
    "collapsed": false
   },
   "outputs": [
    {
     "name": "stderr",
     "output_type": "stream",
     "text": [
      "C:\\Users\\Riccardo\\stoch_ord\\stoch_order.py:151: SettingWithCopyWarning: \n",
      "A value is trying to be set on a copy of a slice from a DataFrame\n",
      "\n",
      "See the caveats in the documentation: http://pandas.pydata.org/pandas-docs/stable/indexing.html#indexing-view-versus-copy\n",
      "  data.group[data[\"Treatment\"]>i] = 2\n",
      "C:\\Users\\Riccardo\\stoch_ord\\stoch_order.py:168: SettingWithCopyWarning: \n",
      "A value is trying to be set on a copy of a slice from a DataFrame\n",
      "\n",
      "See the caveats in the documentation: http://pandas.pydata.org/pandas-docs/stable/indexing.html#indexing-view-versus-copy\n",
      "  data.group[data[\"new_treat\"]>j] = 2\n"
     ]
    },
    {
     "name": "stdout",
     "output_type": "stream",
     "text": [
      "0.88\n",
      "0.88\n",
      "0.54\n",
      "0.45\n"
     ]
    }
   ],
   "source": [
    "import numpy as np\n",
    "import pandas as pd\n",
    "from stoch_order import *\n",
    "\n",
    "'''ordered categ'''\n",
    "data = np.zeros(100*4).reshape(100,4)\n",
    "data[:,0] = np.arange(1,101)\n",
    "data[:,1] = np.random.randint(1,5,100)\n",
    "data[:,2] = np.random.randint(1,6,100)\n",
    "data[:,3] = np.random.randint(1,6,100)\n",
    "\n",
    "data = pd.DataFrame(data)\n",
    "data.columns = [\"id\",\"Treatment\",\"Outcome1\",\"Outcome2\"]\n",
    "\n",
    "pvalues = stochastic_ordering(data,100)\n",
    "print(pvalues.get(\"gpvariables\"))\n",
    "print(pvalues.get(\"gpsplits\"))\n",
    "\n",
    "'''continuous'''\n",
    "\n",
    "data = np.zeros(100*4).reshape(100,4)\n",
    "data[:,0] = np.arange(1,101)\n",
    "data[:,1] = np.random.randint(1,5,100)\n",
    "data[:,2] = np.random.random(100)\n",
    "data[:,3] = np.random.random(100)\n",
    "\n",
    "data = pd.DataFrame(data)\n",
    "data.columns = [\"id\",\"Treatment\",\"Outcome1\",\"Outcome2\"]\n",
    "\n",
    "pvalues = stochastic_ordering(data,100,\"dm\")\n",
    "print(pvalues.get(\"gpvariables\"))\n",
    "print(pvalues.get(\"gpsplits\"))"
   ]
  },
  {
   "cell_type": "code",
   "execution_count": null,
   "metadata": {
    "collapsed": true
   },
   "outputs": [],
   "source": []
  }
 ],
 "metadata": {
  "kernelspec": {
   "display_name": "Python 3",
   "language": "python",
   "name": "python3"
  },
  "language_info": {
   "codemirror_mode": {
    "name": "ipython",
    "version": 3
   },
   "file_extension": ".py",
   "mimetype": "text/x-python",
   "name": "python",
   "nbconvert_exporter": "python",
   "pygments_lexer": "ipython3",
   "version": "3.4.3"
  }
 },
 "nbformat": 4,
 "nbformat_minor": 2
}
